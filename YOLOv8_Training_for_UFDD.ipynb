{
  "nbformat": 4,
  "nbformat_minor": 0,
  "metadata": {
    "colab": {
      "provenance": [],
      "collapsed_sections": [
        "MPLQBMD9zY8a",
        "6mkroxtd-RR_",
        "r_qAalFo-Wxv",
        "RCmRxq2Fjqtf",
        "U_dfUkTpzbzb",
        "C1KefTLwRQEn",
        "CwyHFqsNnsLk"
      ],
      "gpuType": "V100",
      "machine_shape": "hm",
      "toc_visible": true
    },
    "kernelspec": {
      "name": "python3",
      "display_name": "Python 3"
    },
    "language_info": {
      "name": "python"
    },
    "accelerator": "GPU"
  },
  "cells": [
    {
      "cell_type": "markdown",
      "source": [
        "# **YOLOv8 Training for UFDD dataset**\n",
        "\n",
        "**Author:** [Yi-Jie Wong](https://www.linkedin.com/in/wongyijie/)<br>\n",
        "**Date created:** 2023/07/19<br>\n",
        "**Last modified:** 2023/10/28<br>\n",
        "**Description:** Training YOLOv8 for UFDD Dataset + Conversion to OpenVINO\n",
        "\n",
        "Reference\n",
        "*   [How to use the Python API for YOLOv8](https://learnopencv.com/train-yolov8-on-custom-dataset/)\n",
        "*   [How to use YOLOv5](https://colab.research.google.com/github/ultralytics/yolov5/blob/master/tutorial.ipynb#scrollTo=zR9ZbuQCH7FX)\n",
        "*   [yolo data format: x_c, y_c, w, h](https://github.com/ultralytics/yolov5/issues/2293#issuecomment-785534291)\n",
        "*   [UFDD dataset](https://paperswithcode.com/dataset/ufdd)\n",
        "*   [OpenVINO for YOLOv8](https://github.com/openvinotoolkit/openvino_notebooks/blob/main/notebooks/230-yolov8-optimization/230-yolov8-optimization.ipynb)\n",
        "\n"
      ],
      "metadata": {
        "id": "oqUNrewEF_97"
      }
    },
    {
      "cell_type": "markdown",
      "source": [
        "## **Get Ready UFDD dataset**"
      ],
      "metadata": {
        "id": "MPLQBMD9zY8a"
      }
    },
    {
      "cell_type": "markdown",
      "source": [
        "### Download UFDD dataset\n",
        "\n",
        "Unconstrained Face Detection Dataset (UFDD) is a Face Detection dataset aims to fuel further research in unconstrained face detection.\n",
        "\n",
        "<img src=\"https://production-media.paperswithcode.com/datasets/Screenshot_2021-02-01_at_16.05.53.png\" alt=\"UFDD data example\">"
      ],
      "metadata": {
        "id": "6mkroxtd-RR_"
      }
    },
    {
      "cell_type": "code",
      "source": [
        "from IPython.display import clear_output\n",
        "\n",
        "!wget --no-check-certificate 'https://docs.google.com/uc?export=download&id=1aGR7FryrRuS86S9LBAqFksy-QDqsgBRV' -O \"UFDD-annotationfile.zip\"\n",
        "!unzip \"UFDD-annotationfile.zip\"\n",
        "\n",
        "clear_output()"
      ],
      "metadata": {
        "id": "nJSEAPGzUFhP"
      },
      "execution_count": null,
      "outputs": []
    },
    {
      "cell_type": "code",
      "source": [
        "!wget --no-check-certificate 'https://docs.google.com/uc?export=download&id=1bZGzDx_CgNnxoRdLnmMLiZ3F9k5lnY4J' -O \"UFDD_information.zip\"\n",
        "!unzip \"UFDD_information.zip\"\n",
        "\n",
        "clear_output()"
      ],
      "metadata": {
        "id": "iuMwDWJtYCSj"
      },
      "execution_count": null,
      "outputs": []
    },
    {
      "cell_type": "code",
      "source": [
        "!wget --load-cookies /tmp/cookies.txt \"https://docs.google.com/uc?export=download&confirm=$(wget --quiet --save-cookies /tmp/cookies.txt --keep-session-cookies --no-check-certificate 'https://docs.google.com/uc?export=download&id=1o-lsXB7XLc4F39zQyZgwrabWyN1M5NBY' -O- | sed -rn 's/.*confirm=([0-9A-Za-z_]+).*/\\1\\n/p')&id=1o-lsXB7XLc4F39zQyZgwrabWyN1M5NBY\" -O \"UFDD_val.zip\" && rm -rf /tmp/cookies.txt\n",
        "!unzip \"UFDD_val.zip\"\n",
        "\n",
        "clear_output()"
      ],
      "metadata": {
        "id": "ZN0S9Is9XEXf"
      },
      "execution_count": null,
      "outputs": []
    },
    {
      "cell_type": "code",
      "source": [
        "# remove the zip file\n",
        "import os, shutil\n",
        "\n",
        "for filename in os.listdir(os.getcwd()):\n",
        "    if filename.endswith('.zip'):\n",
        "        os.remove(filename)"
      ],
      "metadata": {
        "id": "BruY9clWZjWN"
      },
      "execution_count": null,
      "outputs": []
    },
    {
      "cell_type": "markdown",
      "source": [
        "### Get ready the dataset\n",
        "1.   Split dataset\n",
        "2.   Convert dataset into [appropriate format](https://github.com/ultralytics/yolov5/issues/2293#issuecomment-785534291)\n",
        "\n",
        "\n",
        "#### 1. Split Dataset\n",
        "For YOLOv5 and YOLOv8, you need to split your dataset following the directory structure below:\n",
        "```\n",
        "UFDD\n",
        "├── train\n",
        "│   └── images  \n",
        "│   └── labels  \n",
        "├── valid\n",
        "│   └── images  \n",
        "│   └── labels  \n",
        "```\n",
        "In this case, we created a folder called ```UFDD``` to store all data for UFDD dataset. All training data and validation data is stored in ```train``` and ```valid``` folder, respectively. ```images``` store all image for training/validation, while ```labels``` store all the labels for each image. Refer next part for the label format </br></br>\n",
        "\n",
        "\n",
        "\n",
        "#### 2. Dataset format\n",
        "For each ```xxx.jpg``` (or other image format), you have a corresponding label file ```xxx.txt``` which follows the format below:\n",
        "\n",
        "*   One row per object\n",
        "*   Each row is ```class, x_center, y_center, width, height``` format.\n",
        "*   Box coordinates must be in ```normalized xywh format (from 0 - 1)```. If your boxes are in pixels, divide x_center and width by image width, and y_center and height by image height.\n",
        "*   Class numbers are zero-indexed (start from 0)."
      ],
      "metadata": {
        "id": "r_qAalFo-Wxv"
      }
    },
    {
      "cell_type": "code",
      "source": [
        "data_dir = 'UFDD'\n",
        "\n",
        "if not os.path.isdir(data_dir):\n",
        "    os.mkdir(data_dir)\n",
        "    os.mkdir(os.path.join(data_dir, 'train'))\n",
        "    os.mkdir(os.path.join(data_dir, 'train', 'images'))\n",
        "    os.mkdir(os.path.join(data_dir, 'train', 'labels'))\n",
        "\n",
        "    os.mkdir(os.path.join(data_dir, 'valid'))\n",
        "    os.mkdir(os.path.join(data_dir, 'valid', 'images'))\n",
        "    os.mkdir(os.path.join(data_dir, 'valid', 'labels'))"
      ],
      "metadata": {
        "id": "BNZOqCaRsSXn"
      },
      "execution_count": null,
      "outputs": []
    },
    {
      "cell_type": "code",
      "source": [
        "import matplotlib.pyplot as plt\n",
        "\n",
        "filename = 'UFDD-annotationfile/UFDD_split/UFDD_val_bbx_gt.txt'\n",
        "#filename = 'UFDD-annotationfile/UFDD_split/UFDD_val_bbx_gt-woDistractor.txt'\n",
        "\n",
        "with open(filename, 'r') as file:\n",
        "    # read lines\n",
        "    lines = file.readlines()\n",
        "\n",
        "    # loop all lines\n",
        "    paths = []\n",
        "    annots = []\n",
        "    annot = []\n",
        "\n",
        "    i = 0\n",
        "    while i != len(lines):\n",
        "        line = lines[i].replace('\\n', '')\n",
        "        path = os.path.join('UFDD_val/images', line)\n",
        "        if os.path.exists(path):\n",
        "            # add path to paths\n",
        "            paths.append(path)\n",
        "            i += 1\n",
        "\n",
        "            # load image\n",
        "            img = plt.imread(path)\n",
        "            try:\n",
        "                y_shape, x_shape, _ = img.shape\n",
        "            except:\n",
        "                y_shape, x_shape = img.shape\n",
        "\n",
        "            # next line is total object in this image\n",
        "            count = int(lines[i].replace('\\n', ''))\n",
        "            i += 1\n",
        "\n",
        "            # get all annot in this image\n",
        "            for _ in range(count):\n",
        "                # read next line\n",
        "                line = lines[i].replace('\\n', '')\n",
        "\n",
        "                # split to x_start, y_start, x_range, y_range\n",
        "                alist = line.split()\n",
        "                alist = [int(item) for item in alist]\n",
        "                x_start, y_start, x_range, y_range, _, _, _, _, _ = alist\n",
        "\n",
        "                # normalize to 0 - 1\n",
        "                x_start, x_range = x_start / x_shape, x_range / x_shape\n",
        "                y_start, y_range = y_start / y_shape, y_range / y_shape\n",
        "\n",
        "                # find x_c, y_c, w, h\n",
        "                x_c = x_start + x_range/2\n",
        "                y_c = y_start + y_range/2\n",
        "                w = x_range\n",
        "                h = y_range\n",
        "\n",
        "                annot.append('0 {:.6f} {:.6f} {:.6f} {:.6f}'.format(x_c, y_c, w, h))\n",
        "                i += 1\n",
        "\n",
        "            # add annot to annots\n",
        "            annots.append(annot)\n",
        "            annot = []\n",
        "        else:\n",
        "            raise NotImplementedError\n",
        "\n",
        "assert len(paths) == len(annots)"
      ],
      "metadata": {
        "id": "9-3OUBUBtcdP"
      },
      "execution_count": null,
      "outputs": []
    },
    {
      "cell_type": "code",
      "source": [
        "# show that the format is correct\n",
        "\n",
        "i = 0\n",
        "\n",
        "# get image\n",
        "img = plt.imread(paths[i])\n",
        "y_shape, x_shape, _ = img.shape\n",
        "\n",
        "annot = annots[i][0]\n",
        "alist = annot.split()\n",
        "alist = [float(item) for item in alist]\n",
        "_, x_c, y_c, w, h = alist\n",
        "x_c, w = x_c * x_shape, w * x_shape\n",
        "y_c, h = y_c * y_shape, h * y_shape\n",
        "y_start = int(y_c - h / 2)\n",
        "x_start = int(x_c - w / 2)\n",
        "y_range = int(h)\n",
        "x_range = int(w)\n",
        "\n",
        "img = img[y_start:int(y_start+y_range), x_start:int(x_start+x_range),:]\n",
        "plt.imshow(img)"
      ],
      "metadata": {
        "id": "wNsUmwU11lpM"
      },
      "execution_count": null,
      "outputs": []
    },
    {
      "cell_type": "code",
      "source": [
        "# shuffle the data\n",
        "import numpy as np\n",
        "\n",
        "SEED = 123\n",
        "\n",
        "np.random.seed(SEED)\n",
        "np.random.shuffle(paths)\n",
        "np.random.seed(SEED)\n",
        "np.random.shuffle(annots)"
      ],
      "metadata": {
        "id": "A3VVLfcAyM-x"
      },
      "execution_count": null,
      "outputs": []
    },
    {
      "cell_type": "code",
      "source": [
        "# split the data (in appropriate format)\n",
        "\n",
        "TRAIN_RATIO = 0.8\n",
        "\n",
        "for i, (path, annot) in enumerate(zip(paths, annots)):\n",
        "    if i <= int(TRAIN_RATIO * len(paths)):\n",
        "        image_dir = 'UFDD/train/images'\n",
        "        label_dir = 'UFDD/train/labels'\n",
        "    else:\n",
        "        image_dir = 'UFDD/valid/images'\n",
        "        label_dir = 'UFDD/valid/labels'\n",
        "\n",
        "    # get path\n",
        "    ori_image_path = paths[i]\n",
        "    new_image_path = os.path.join(image_dir, os.path.basename(paths[i]))\n",
        "    annot_path = os.path.join(label_dir, os.path.splitext(os.path.basename(new_image_path))[0]+'.txt')\n",
        "\n",
        "    # copy image to new directory\n",
        "    shutil.copyfile(ori_image_path, new_image_path)\n",
        "\n",
        "    # save annotation as txt file\n",
        "    with open(annot_path, 'w') as file:\n",
        "        for item in annot:\n",
        "            file.write(item + '\\n')"
      ],
      "metadata": {
        "id": "sJIL2imx_RnK"
      },
      "execution_count": null,
      "outputs": []
    },
    {
      "cell_type": "code",
      "source": [
        "# get ready the yaml file for the dataset\n",
        "current_dir = os.getcwd()\n",
        "\n",
        "yaml_config = [\n",
        "    f\"train: '{current_dir}/UFDD/train'\",\n",
        "    f\"val: '{current_dir}/UFDD/valid'\",\n",
        "    \"\",\n",
        "    \"# class names\",\n",
        "    \"names: \",\n",
        "    \"  0: 'face'\"\n",
        "]\n",
        "\n",
        "# save annotation as txt file\n",
        "yaml_file = 'UFDD.yaml'\n",
        "with open(yaml_file, 'w') as file:\n",
        "    for item in yaml_config:\n",
        "        file.write(item + '\\n')"
      ],
      "metadata": {
        "id": "c_49srOQL2Vr"
      },
      "execution_count": null,
      "outputs": []
    },
    {
      "cell_type": "markdown",
      "source": [
        "## **YOLOv8 Training**"
      ],
      "metadata": {
        "id": "RCmRxq2Fjqtf"
      }
    },
    {
      "cell_type": "markdown",
      "source": [
        "### Training"
      ],
      "metadata": {
        "id": "Bvu9T_nQDqN3"
      }
    },
    {
      "cell_type": "code",
      "execution_count": null,
      "metadata": {
        "id": "rEf9S6_JTpsP"
      },
      "outputs": [],
      "source": [
        "!pip install ultralytics==8.0.146"
      ]
    },
    {
      "cell_type": "code",
      "source": [
        "# !yolo task=detect \\\n",
        "# mode=predict \\\n",
        "# model=yolov8n.pt \\\n",
        "# conf=0.25 \\\n",
        "# source='https://media.roboflow.com/notebooks/examples/dog.jpeg'"
      ],
      "metadata": {
        "id": "Cp1xNdwWT9Rf"
      },
      "execution_count": null,
      "outputs": []
    },
    {
      "cell_type": "code",
      "source": [
        "from ultralytics import YOLO\n",
        "\n",
        "# Load the pretrained model\n",
        "model = YOLO('yolov8m.pt')"
      ],
      "metadata": {
        "id": "_1fpg8b9ceOD"
      },
      "execution_count": null,
      "outputs": []
    },
    {
      "cell_type": "code",
      "source": [
        "from ultralytics import YOLO\n",
        "\n",
        "# Load the pretrained model\n",
        "model = YOLO('yolov8m.pt')\n",
        "\n",
        "# Training.\n",
        "results = model.train(\n",
        "   data=yaml_file,\n",
        "   imgsz=640,\n",
        "   epochs=200, # adjust accordingly\n",
        "   batch=32, # use the largest batch size your machine can\n",
        "   #amp=False,\n",
        "   name='yolov8m_custom')"
      ],
      "metadata": {
        "id": "vgOnrDFhC9kI"
      },
      "execution_count": null,
      "outputs": []
    },
    {
      "cell_type": "code",
      "source": [
        "# https://docs.ultralytics.com/modes/val/#key-features-of-val-mode\n",
        "model = YOLO('/content/runs/detect/yolov8m_custom/weights/best.pt')\n",
        "metrics = model.val()"
      ],
      "metadata": {
        "id": "TcIlmbua7QZs"
      },
      "execution_count": null,
      "outputs": []
    },
    {
      "cell_type": "markdown",
      "source": [
        "### Detect demo"
      ],
      "metadata": {
        "id": "9Xcub18TLF8T"
      }
    },
    {
      "cell_type": "code",
      "source": [
        "import locale\n",
        "locale.getpreferredencoding = lambda: \"UTF-8\""
      ],
      "metadata": {
        "id": "LVqpMd2QjidE"
      },
      "execution_count": null,
      "outputs": []
    },
    {
      "cell_type": "code",
      "source": [
        "# replace with the weights you want\n",
        "!yolo task=detect \\\n",
        "mode=predict \\\n",
        "model=\"runs/detect/yolov8n_custom/weights/best.pt\" \\\n",
        "source=\"UFDD_val/images/haze/haze_02101.jpg\" \\\n",
        "show=True \\\n",
        "imgsz=640 \\\n",
        "name=yolov8n_inference \\\n",
        "show_labels=False"
      ],
      "metadata": {
        "id": "oUVDLEy8DWTr"
      },
      "execution_count": null,
      "outputs": []
    },
    {
      "cell_type": "markdown",
      "source": [
        "## **YOLOv5 Training**\n",
        "### Just for YOLOv5 vs YOLOv8 Comparison"
      ],
      "metadata": {
        "id": "U_dfUkTpzbzb"
      }
    },
    {
      "cell_type": "markdown",
      "source": [
        "### Training"
      ],
      "metadata": {
        "id": "2vsAYUQN0OwN"
      }
    },
    {
      "cell_type": "code",
      "source": [
        "!git clone https://github.com/ultralytics/yolov5  # clone\n",
        "%cd yolov5\n",
        "%pip install -qr requirements.txt comet_ml  # install\n",
        "\n",
        "import torch\n",
        "import utils\n",
        "display = utils.notebook_init()  # checks\n",
        "%cd ../"
      ],
      "metadata": {
        "id": "ZW4xZH8h0AMH"
      },
      "execution_count": null,
      "outputs": []
    },
    {
      "cell_type": "code",
      "source": [
        "# Train YOLOv5n\n",
        "%cd yolov5\n",
        "!python train.py --img 640 --batch 64 --epochs 200 --data \"../UFDD.yaml\" --weights yolov5n.pt #adjust the hyperparameter youself\n",
        "%cd ../"
      ],
      "metadata": {
        "id": "mIO4oq4V0Ti_"
      },
      "execution_count": null,
      "outputs": []
    },
    {
      "cell_type": "markdown",
      "source": [
        "### Demo"
      ],
      "metadata": {
        "id": "0Z-Jxew85qUG"
      }
    },
    {
      "cell_type": "code",
      "source": [
        "%cd yolov5\n",
        "!python detect.py --weights \"runs/train/exp/weights/best.pt\" --img 640 --conf 0.25 --source \"../UFDD_val/images/haze/haze_02101.jpg\"\n",
        "%cd ../"
      ],
      "metadata": {
        "id": "D2bytS9j5yLd"
      },
      "execution_count": null,
      "outputs": []
    },
    {
      "cell_type": "markdown",
      "source": [
        "## **OpenVINO for YOLOv8**\n",
        "\n"
      ],
      "metadata": {
        "id": "C1KefTLwRQEn"
      }
    },
    {
      "cell_type": "code",
      "source": [
        "!pip install -q \"openvino-dev>=2023.0.0\" \"nncf>=2.5.0\"\n",
        "!pip install -q \"ultralytics==8.0.146\" \"onnx==1.14.1\""
      ],
      "metadata": {
        "id": "XIH9c6MFIrb5"
      },
      "execution_count": null,
      "outputs": []
    },
    {
      "cell_type": "code",
      "source": [
        "# your pretrained model\n",
        "experiment = 'yolov8n_custom'\n",
        "det_model = YOLO(f\"runs/detect/{experiment}/weights/best.pt\")\n",
        "\n",
        "# export model to openvino format (using prebuilt export function in yolov8)\n",
        "openvino_path = f\"runs/detect/{experiment}/weights/best_openvino_model/best.xml\"\n",
        "if not os.path.isfile(openvino_path):\n",
        "    det_model.export(format=\"openvino\", dynamic=True, half=False)"
      ],
      "metadata": {
        "id": "D_BCAunQRUx9"
      },
      "execution_count": null,
      "outputs": []
    },
    {
      "cell_type": "markdown",
      "source": [
        "# **OpenVINO: Post Training Optimization**\n",
        "Potential future add-ons </br>\n",
        "Reference\n",
        "*    [Object Detection Quantization](https://docs.openvino.ai/2022.2/notebooks/111-detection-quantization-with-output.html)"
      ],
      "metadata": {
        "id": "CwyHFqsNnsLk"
      }
    },
    {
      "cell_type": "code",
      "source": [
        "from ultralytics.yolo.utils import DEFAULT_CFG\n",
        "from ultralytics.yolo.cfg import get_cfg\n",
        "from ultralytics.yolo.data.utils import check_det_dataset\n",
        "\n",
        "CFG_PATH = 'UFDD.yaml'\n",
        "args = get_cfg(cfg=DEFAULT_CFG)\n",
        "args.data = str(CFG_PATH)"
      ],
      "metadata": {
        "id": "XmXuR6fTDfrx"
      },
      "execution_count": null,
      "outputs": []
    },
    {
      "cell_type": "code",
      "source": [
        "det_model"
      ],
      "metadata": {
        "id": "PcDyf1l8E2Xq"
      },
      "execution_count": null,
      "outputs": []
    },
    {
      "cell_type": "code",
      "source": [
        "det_model = YOLO(\"/content/runs/detect/yolov8n_custom/weights/best.pt\")"
      ],
      "metadata": {
        "id": "iCGav_wQF59M"
      },
      "execution_count": null,
      "outputs": []
    },
    {
      "cell_type": "code",
      "source": [
        "det_validator = det_model.ValidatorClass(args=args)"
      ],
      "metadata": {
        "id": "jEyQYWfED_43"
      },
      "execution_count": null,
      "outputs": []
    },
    {
      "cell_type": "code",
      "source": [
        "import nncf  # noqa: F811\n",
        "from typing import Dict\n",
        "\n",
        "\n",
        "def transform_fn(data_item:Dict):\n",
        "    \"\"\"\n",
        "    Quantization transform function. Extracts and preprocess input data from dataloader item for quantization.\n",
        "    Parameters:\n",
        "       data_item: Dict with data item produced by DataLoader during iteration\n",
        "    Returns:\n",
        "        input_tensor: Input data for quantization\n",
        "    \"\"\"\n",
        "    input_tensor = det_validator.preprocess(data_item)['img'].numpy()\n",
        "    return input_tensor\n",
        "\n",
        "\n",
        "quantization_dataset = nncf.Dataset(det_data_loader, transform_fn)"
      ],
      "metadata": {
        "id": "zIm9WL9kDcO6"
      },
      "execution_count": null,
      "outputs": []
    },
    {
      "cell_type": "code",
      "source": [
        "from openvino.runtime import serialize\n",
        "int8_model_det_path = f\"/content/runs/detect/{experiment}/weights/best_openvino_model/best_int8.xml\"\n",
        "print(f\"Quantized detection model will be saved to {int8_model_det_path}\")\n",
        "serialize(quantized_det_model, str(int8_model_det_path))"
      ],
      "metadata": {
        "id": "UeYpgv8qC9lt"
      },
      "execution_count": null,
      "outputs": []
    },
    {
      "cell_type": "code",
      "source": [],
      "metadata": {
        "id": "Y5c5YFTpC-0L"
      },
      "execution_count": null,
      "outputs": []
    }
  ]
}