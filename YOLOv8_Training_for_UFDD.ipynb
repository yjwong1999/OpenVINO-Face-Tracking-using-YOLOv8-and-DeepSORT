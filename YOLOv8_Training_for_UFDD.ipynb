{
 "cells": [
  {
   "cell_type": "markdown",
   "metadata": {
    "id": "oqUNrewEF_97"
   },
   "source": [
    "# **YOLOv8 Training for UFDD dataset**\n",
    "\n",
    "**Author:** [Yi-Jie Wong](https://www.linkedin.com/in/wongyijie/)<br>\n",
    "**Date created:** 2023/07/19<br>\n",
    "**Last modified:** 2023/09/15<br>\n",
    "**Description:** Training YOLOv8 for UFDD Dataset + Conversion to OpenVINO\n",
    "\n",
    "Reference\n",
    "*   [How to use the Python API for YOLOv8](https://learnopencv.com/train-yolov8-on-custom-dataset/)\n",
    "*   [How to use YOLOv5](https://colab.research.google.com/github/ultralytics/yolov5/blob/master/tutorial.ipynb#scrollTo=zR9ZbuQCH7FX)\n",
    "*   [yolo data format: x_c, y_c, w, h](https://github.com/ultralytics/yolov5/issues/2293#issuecomment-785534291)\n",
    "*   [UFDD dataset](https://paperswithcode.com/dataset/ufdd)\n",
    "*   [OpenVINO for YOLOv8](https://github.com/openvinotoolkit/openvino_notebooks/blob/main/notebooks/230-yolov8-optimization/230-yolov8-optimization.ipynb)\n",
    "\n"
   ]
  },
  {
   "cell_type": "markdown",
   "metadata": {
    "id": "MPLQBMD9zY8a"
   },
   "source": [
    "## **Get Ready UFDD dataset**"
   ]
  },
  {
   "cell_type": "markdown",
   "metadata": {
    "id": "6mkroxtd-RR_"
   },
   "source": [
    "### Download UFDD dataset\n",
    "\n",
    "Unconstrained Face Detection Dataset (UFDD) is a Face Detection dataset aims to fuel further research in unconstrained face detection.\n",
    "\n",
    "<img src=\"https://production-media.paperswithcode.com/datasets/Screenshot_2021-02-01_at_16.05.53.png\" alt=\"UFDD data example\">"
   ]
  },
  {
   "cell_type": "code",
   "execution_count": null,
   "metadata": {
    "id": "nJSEAPGzUFhP"
   },
   "outputs": [],
   "source": [
    "from IPython.display import clear_output\n",
    "\n",
    "!wget --no-check-certificate 'https://docs.google.com/uc?export=download&id=1aGR7FryrRuS86S9LBAqFksy-QDqsgBRV' -O \"UFDD-annotationfile.zip\"\n",
    "!unzip \"UFDD-annotationfile.zip\"\n",
    "\n",
    "clear_output()"
   ]
  },
  {
   "cell_type": "code",
   "execution_count": null,
   "metadata": {
    "id": "iuMwDWJtYCSj"
   },
   "outputs": [],
   "source": [
    "!wget --no-check-certificate 'https://docs.google.com/uc?export=download&id=1bZGzDx_CgNnxoRdLnmMLiZ3F9k5lnY4J' -O \"UFDD_information.zip\"\n",
    "!unzip \"UFDD_information.zip\"\n",
    "\n",
    "clear_output()"
   ]
  },
  {
   "cell_type": "code",
   "execution_count": null,
   "metadata": {
    "id": "ZN0S9Is9XEXf"
   },
   "outputs": [],
   "source": [
    "!wget --load-cookies /tmp/cookies.txt \"https://docs.google.com/uc?export=download&confirm=$(wget --quiet --save-cookies /tmp/cookies.txt --keep-session-cookies --no-check-certificate 'https://docs.google.com/uc?export=download&id=1o-lsXB7XLc4F39zQyZgwrabWyN1M5NBY' -O- | sed -rn 's/.*confirm=([0-9A-Za-z_]+).*/\\1\\n/p')&id=1o-lsXB7XLc4F39zQyZgwrabWyN1M5NBY\" -O \"UFDD_val.zip\" && rm -rf /tmp/cookies.txt\n",
    "!unzip \"UFDD_val.zip\"\n",
    "\n",
    "clear_output()"
   ]
  },
  {
   "cell_type": "code",
   "execution_count": null,
   "metadata": {
    "id": "BruY9clWZjWN"
   },
   "outputs": [],
   "source": [
    "# remove the zip file\n",
    "import os, shutil\n",
    "\n",
    "for filename in os.listdir(os.getcwd()):\n",
    "    if filename.endswith('.zip'):\n",
    "        os.remove(filename)"
   ]
  },
  {
   "cell_type": "markdown",
   "metadata": {
    "id": "r_qAalFo-Wxv"
   },
   "source": [
    "### Get ready the dataset\n",
    "1.   Split dataset\n",
    "2.   Convert dataset into [appropriate format](https://github.com/ultralytics/yolov5/issues/2293#issuecomment-785534291)\n",
    "\n",
    "\n",
    "#### 1. Split Dataset\n",
    "For YOLOv5 and YOLOv8, you need to split your dataset following the directory structure below:\n",
    "```\n",
    "UFDD\n",
    "├── train\n",
    "│   └── images  \n",
    "│   └── labels  \n",
    "├── valid\n",
    "│   └── images  \n",
    "│   └── labels  \n",
    "```\n",
    "In this case, we created a folder called ```UFDD``` to store all data for UFDD dataset. All training data and validation data is stored in ```train``` and ```valid``` folder, respectively. ```images``` store all image for training/validation, while ```labels``` store all the labels for each image. Refer next part for the label format </br></br>\n",
    "\n",
    "\n",
    "\n",
    "#### 2. Dataset format\n",
    "For each ```xxx.jpg``` (or other image format), you have a corresponding label file ```xxx.txt``` which follows the format below:\n",
    "\n",
    "*   One row per object\n",
    "*   Each row is ```class, x_center, y_center, width, height``` format.\n",
    "*   Box coordinates must be in ```normalized xywh format (from 0 - 1)```. If your boxes are in pixels, divide x_center and width by image width, and y_center and height by image height.\n",
    "*   Class numbers are zero-indexed (start from 0)."
   ]
  },
  {
   "cell_type": "code",
   "execution_count": null,
   "metadata": {
    "id": "BNZOqCaRsSXn"
   },
   "outputs": [],
   "source": [
    "data_dir = 'UFDD'\n",
    "\n",
    "if not os.path.isdir(data_dir):\n",
    "    os.mkdir(data_dir)\n",
    "    os.mkdir(os.path.join(data_dir, 'train'))\n",
    "    os.mkdir(os.path.join(data_dir, 'train', 'images'))\n",
    "    os.mkdir(os.path.join(data_dir, 'train', 'labels'))\n",
    "\n",
    "    os.mkdir(os.path.join(data_dir, 'valid'))\n",
    "    os.mkdir(os.path.join(data_dir, 'valid', 'images'))\n",
    "    os.mkdir(os.path.join(data_dir, 'valid', 'labels'))"
   ]
  },
  {
   "cell_type": "code",
   "execution_count": null,
   "metadata": {
    "id": "9-3OUBUBtcdP"
   },
   "outputs": [],
   "source": [
    "import matplotlib.pyplot as plt\n",
    "\n",
    "filename = 'UFDD-annotationfile/UFDD_split/UFDD_val_bbx_gt.txt'\n",
    "#filename = 'UFDD-annotationfile/UFDD_split/UFDD_val_bbx_gt-woDistractor.txt'\n",
    "\n",
    "with open(filename, 'r') as file:\n",
    "    # read lines\n",
    "    lines = file.readlines()\n",
    "\n",
    "    # loop all lines\n",
    "    paths = []\n",
    "    annots = []\n",
    "    annot = []\n",
    "\n",
    "    i = 0\n",
    "    while i != len(lines):\n",
    "        line = lines[i].replace('\\n', '')\n",
    "        path = os.path.join('UFDD_val/images', line)\n",
    "        if os.path.exists(path):\n",
    "            # add path to paths\n",
    "            paths.append(path)\n",
    "            i += 1\n",
    "\n",
    "            # load image\n",
    "            img = plt.imread(path)\n",
    "            try:\n",
    "                y_shape, x_shape, _ = img.shape\n",
    "            except:\n",
    "                y_shape, x_shape = img.shape\n",
    "\n",
    "            # next line is total object in this image\n",
    "            count = int(lines[i].replace('\\n', ''))\n",
    "            i += 1\n",
    "\n",
    "            # get all annot in this image\n",
    "            for _ in range(count):\n",
    "                # read next line\n",
    "                line = lines[i].replace('\\n', '')\n",
    "\n",
    "                # split to x_start, y_start, x_range, y_range\n",
    "                alist = line.split()\n",
    "                alist = [int(item) for item in alist]\n",
    "                x_start, y_start, x_range, y_range, _, _, _, _, _ = alist\n",
    "\n",
    "                # normalize to 0 - 1\n",
    "                x_start, x_range = x_start / x_shape, x_range / x_shape\n",
    "                y_start, y_range = y_start / y_shape, y_range / y_shape\n",
    "\n",
    "                # find x_c, y_c, w, h\n",
    "                x_c = x_start + x_range/2\n",
    "                y_c = y_start + y_range/2\n",
    "                w = x_range\n",
    "                h = y_range\n",
    "\n",
    "                annot.append('0 {:.6f} {:.6f} {:.6f} {:.6f}'.format(x_c, y_c, w, h))\n",
    "                i += 1\n",
    "\n",
    "            # add annot to annots\n",
    "            annots.append(annot)\n",
    "            annot = []\n",
    "        else:\n",
    "            raise NotImplementedError\n",
    "\n",
    "assert len(paths) == len(annots)"
   ]
  },
  {
   "cell_type": "code",
   "execution_count": null,
   "metadata": {
    "id": "wNsUmwU11lpM"
   },
   "outputs": [],
   "source": [
    "# show that the format is correct\n",
    "\n",
    "i = 0\n",
    "\n",
    "# get image\n",
    "img = plt.imread(paths[i])\n",
    "y_shape, x_shape, _ = img.shape\n",
    "\n",
    "annot = annots[i][0]\n",
    "alist = annot.split()\n",
    "alist = [float(item) for item in alist]\n",
    "_, x_c, y_c, w, h = alist\n",
    "x_c, w = x_c * x_shape, w * x_shape\n",
    "y_c, h = y_c * y_shape, h * y_shape\n",
    "y_start = int(y_c - h / 2)\n",
    "x_start = int(x_c - w / 2)\n",
    "y_range = int(h)\n",
    "x_range = int(w)\n",
    "\n",
    "img = img[y_start:int(y_start+y_range), x_start:int(x_start+x_range),:]\n",
    "plt.imshow(img)"
   ]
  },
  {
   "cell_type": "code",
   "execution_count": null,
   "metadata": {
    "id": "A3VVLfcAyM-x"
   },
   "outputs": [],
   "source": [
    "# shuffle the data\n",
    "import numpy as np\n",
    "\n",
    "SEED = 123\n",
    "\n",
    "np.random.seed(SEED)\n",
    "np.random.shuffle(paths)\n",
    "np.random.seed(SEED)\n",
    "np.random.shuffle(annots)"
   ]
  },
  {
   "cell_type": "code",
   "execution_count": null,
   "metadata": {
    "id": "sJIL2imx_RnK"
   },
   "outputs": [],
   "source": [
    "# split the data (in appropriate format)\n",
    "\n",
    "TRAIN_RATIO = 0.8\n",
    "\n",
    "for i, (path, annot) in enumerate(zip(paths, annots)):\n",
    "    if i <= int(TRAIN_RATIO * len(paths)):\n",
    "        image_dir = 'UFDD/train/images'\n",
    "        label_dir = 'UFDD/train/labels'\n",
    "    else:\n",
    "        image_dir = 'UFDD/valid/images'\n",
    "        label_dir = 'UFDD/valid/labels'\n",
    "\n",
    "    # get path\n",
    "    ori_image_path = paths[i]\n",
    "    new_image_path = os.path.join(image_dir, os.path.basename(paths[i]))\n",
    "    annot_path = os.path.join(label_dir, os.path.splitext(os.path.basename(new_image_path))[0]+'.txt')\n",
    "\n",
    "    # copy image to new directory\n",
    "    shutil.copyfile(ori_image_path, new_image_path)\n",
    "\n",
    "    # save annotation as txt file\n",
    "    with open(annot_path, 'w') as file:\n",
    "        for item in annot:\n",
    "            file.write(item + '\\n')"
   ]
  },
  {
   "cell_type": "code",
   "execution_count": null,
   "metadata": {
    "id": "c_49srOQL2Vr"
   },
   "outputs": [],
   "source": [
    "# get ready the yaml file for the dataset\n",
    "current_dir = os.getcwd()\n",
    "\n",
    "yaml_config = [\n",
    "    f\"train: '{current_dir}/UFDD/train'\",\n",
    "    f\"val: '{current_dir}/UFDD/valid'\",\n",
    "    \"\",\n",
    "    \"# class names\",\n",
    "    \"names: \",\n",
    "    \"  0: 'face'\"\n",
    "]\n",
    "\n",
    "# save annotation as txt file\n",
    "yaml_file = 'UFDD.yaml'\n",
    "with open(yaml_file, 'w') as file:\n",
    "    for item in yaml_config:\n",
    "        file.write(item + '\\n')"
   ]
  },
  {
   "cell_type": "markdown",
   "metadata": {
    "id": "RCmRxq2Fjqtf"
   },
   "source": [
    "## **YOLOv8 Training**"
   ]
  },
  {
   "cell_type": "markdown",
   "metadata": {
    "id": "Bvu9T_nQDqN3"
   },
   "source": [
    "### Training"
   ]
  },
  {
   "cell_type": "code",
   "execution_count": null,
   "metadata": {
    "id": "rEf9S6_JTpsP"
   },
   "outputs": [],
   "source": [
    "!pip install ultralytics==8.0.157"
   ]
  },
  {
   "cell_type": "code",
   "execution_count": null,
   "metadata": {
    "id": "Cp1xNdwWT9Rf"
   },
   "outputs": [],
   "source": [
    "# !yolo task=detect \\\n",
    "# mode=predict \\\n",
    "# model=yolov8n.pt \\\n",
    "# conf=0.25 \\\n",
    "# source='https://media.roboflow.com/notebooks/examples/dog.jpeg'"
   ]
  },
  {
   "cell_type": "code",
   "execution_count": null,
   "metadata": {
    "id": "_1fpg8b9ceOD"
   },
   "outputs": [],
   "source": [
    "from ultralytics import YOLO\n",
    "\n",
    "# Load the pretrained model\n",
    "model = YOLO('yolov8n.pt')"
   ]
  },
  {
   "cell_type": "code",
   "execution_count": null,
   "metadata": {
    "id": "vgOnrDFhC9kI",
    "scrolled": true
   },
   "outputs": [],
   "source": [
    "from ultralytics import YOLO\n",
    "\n",
    "# Load the pretrained model\n",
    "model = YOLO('yolov8n.pt')\n",
    "\n",
    "# Training.\n",
    "results = model.train(\n",
    "   data=yaml_file,\n",
    "   imgsz=640,\n",
    "   epochs=1, # 10 epochs just for testing, should be 100\n",
    "   batch=16, # use the largest batch size your machine can\n",
    "   #amp=False,\n",
    "   name='yolov8n_custom')"
   ]
  },
  {
   "cell_type": "markdown",
   "metadata": {
    "id": "9Xcub18TLF8T"
   },
   "source": [
    "### Detect demo"
   ]
  },
  {
   "cell_type": "code",
   "execution_count": null,
   "metadata": {
    "id": "LVqpMd2QjidE"
   },
   "outputs": [],
   "source": [
    "import locale\n",
    "locale.getpreferredencoding = lambda: \"UTF-8\""
   ]
  },
  {
   "cell_type": "code",
   "execution_count": null,
   "metadata": {
    "id": "oUVDLEy8DWTr"
   },
   "outputs": [],
   "source": [
    "!yolo task=detect \\\n",
    "mode=predict \\\n",
    "model=\"runs/detect/yolov8n_custom3/weights/best.pt\" \\\n",
    "source=\"UFDD_val/images/haze/haze_02101.jpg\" \\\n",
    "show=True \\\n",
    "imgsz=640 \\\n",
    "name=yolov8n_inference \\\n",
    "show_labels=False"
   ]
  },
  {
   "cell_type": "markdown",
   "metadata": {
    "id": "2vsAYUQN0OwN"
   },
   "source": [
    "### Training"
   ]
  },
  {
   "cell_type": "code",
   "execution_count": null,
   "metadata": {
    "id": "ZW4xZH8h0AMH"
   },
   "outputs": [],
   "source": [
    "!git clone https://github.com/ultralytics/yolov5  # clone\n",
    "%cd yolov5\n",
    "%pip install -qr requirements.txt comet_ml  # install\n",
    "\n",
    "import torch\n",
    "import utils\n",
    "display = utils.notebook_init()  # checks"
   ]
  },
  {
   "cell_type": "code",
   "execution_count": null,
   "metadata": {
    "id": "mIO4oq4V0Ti_"
   },
   "outputs": [],
   "source": [
    "# Train YOLOv5n\n",
    "!python train.py --img 640 --batch 64 --epochs 1 --data \"/content/UFDD.yaml\" --weights yolov5n.pt #--cache"
   ]
  },
  {
   "cell_type": "markdown",
   "metadata": {
    "id": "0Z-Jxew85qUG"
   },
   "source": [
    "### Demo"
   ]
  },
  {
   "cell_type": "code",
   "execution_count": null,
   "metadata": {
    "id": "D2bytS9j5yLd"
   },
   "outputs": [],
   "source": [
    "!python detect.py --weights \"runs/train/exp3/weights/best.pt\" --img 640 --conf 0.25 --source \"/content/UFDD_val/images/haze/haze_02101.jpg\"\n",
    "# display.Image(filename='runs/detect/exp/zidane.jpg', width=600)"
   ]
  },
  {
   "cell_type": "markdown",
   "metadata": {
    "id": "C1KefTLwRQEn"
   },
   "source": [
    "## **OpenVINO for YOLOv8**\n",
    "\n"
   ]
  },
  {
   "cell_type": "code",
   "execution_count": null,
   "metadata": {
    "id": "XIH9c6MFIrb5"
   },
   "outputs": [],
   "source": [
    "!pip install -q \"openvino-dev>=2023.0.0\" \"nncf>=2.5.0\"\n",
    "!pip install -q \"ultralytics==8.0.157\" onnx"
   ]
  },
  {
   "cell_type": "code",
   "execution_count": null,
   "metadata": {
    "id": "JVHl_p9PRYZt"
   },
   "outputs": [],
   "source": [
    "from typing import Tuple, Dict\n",
    "import cv2\n",
    "import numpy as np\n",
    "from PIL import Image\n",
    "from ultralytics.yolo.utils.plotting import colors\n",
    "\n",
    "\n",
    "def plot_one_box(box:np.ndarray, img:np.ndarray, color:Tuple[int, int, int] = None, mask:np.ndarray = None, label:str = None, line_thickness:int = 5):\n",
    "    \"\"\"\n",
    "    Helper function for drawing single bounding box on image\n",
    "    Parameters:\n",
    "        x (np.ndarray): bounding box coordinates in format [x1, y1, x2, y2]\n",
    "        img (no.ndarray): input image\n",
    "        color (Tuple[int, int, int], *optional*, None): color in BGR format for drawing box, if not specified will be selected randomly\n",
    "        mask (np.ndarray, *optional*, None): instance segmentation mask polygon in format [N, 2], where N - number of points in contour, if not provided, only box will be drawn\n",
    "        label (str, *optonal*, None): box label string, if not provided will not be provided as drowing result\n",
    "        line_thickness (int, *optional*, 5): thickness for box drawing lines\n",
    "    \"\"\"\n",
    "    # Plots one bounding box on image img\n",
    "    tl = line_thickness or round(0.002 * (img.shape[0] + img.shape[1]) / 2) + 1  # line/font thickness\n",
    "    color = color or [random.randint(0, 255) for _ in range(3)]\n",
    "    c1, c2 = (int(box[0]), int(box[1])), (int(box[2]), int(box[3]))\n",
    "    cv2.rectangle(img, c1, c2, color, thickness=tl, lineType=cv2.LINE_AA)\n",
    "    if label:\n",
    "        tf = max(tl - 1, 1)  # font thickness\n",
    "        t_size = cv2.getTextSize(label, 0, fontScale=tl / 3, thickness=tf)[0]\n",
    "        c2 = c1[0] + t_size[0], c1[1] - t_size[1] - 3\n",
    "        cv2.rectangle(img, c1, c2, color, -1, cv2.LINE_AA)  # filled\n",
    "        cv2.putText(img, label, (c1[0], c1[1] - 2), 0, tl / 3, [225, 255, 255], thickness=tf, lineType=cv2.LINE_AA)\n",
    "    if mask is not None:\n",
    "        image_with_mask = img.copy()\n",
    "        mask\n",
    "        cv2.fillPoly(image_with_mask, pts=[mask.astype(int)], color=color)\n",
    "        img = cv2.addWeighted(img, 0.5, image_with_mask, 0.5, 1)\n",
    "    return img\n",
    "\n",
    "\n",
    "def draw_results(results:Dict, source_image:np.ndarray, label_map:Dict):\n",
    "    \"\"\"\n",
    "    Helper function for drawing bounding boxes on image\n",
    "    Parameters:\n",
    "        image_res (np.ndarray): detection predictions in format [x1, y1, x2, y2, score, label_id]\n",
    "        source_image (np.ndarray): input image for drawing\n",
    "        label_map; (Dict[int, str]): label_id to class name mapping\n",
    "    Returns:\n",
    "\n",
    "    \"\"\"\n",
    "    boxes = results[\"det\"]\n",
    "    masks = results.get(\"segment\")\n",
    "    h, w = source_image.shape[:2]\n",
    "    for idx, (*xyxy, conf, lbl) in enumerate(boxes):\n",
    "        label = f'{label_map[int(lbl)]} {conf:.2f}'\n",
    "        mask = masks[idx] if masks is not None else None\n",
    "        source_image = plot_one_box(xyxy, source_image, mask=mask, label=label, color=colors(int(lbl)), line_thickness=1)\n",
    "    return source_image"
   ]
  },
  {
   "cell_type": "code",
   "execution_count": null,
   "metadata": {
    "id": "gOUQjSqB0yVG"
   },
   "outputs": [],
   "source": [
    "from typing import Tuple\n",
    "from ultralytics.yolo.utils import ops\n",
    "import torch\n",
    "import numpy as np\n",
    "\n",
    "\n",
    "def letterbox(img: np.ndarray, new_shape:Tuple[int, int] = (640, 640), color:Tuple[int, int, int] = (114, 114, 114), auto:bool = False, scale_fill:bool = False, scaleup:bool = False, stride:int = 32):\n",
    "    \"\"\"\n",
    "    Resize image and padding for detection. Takes image as input,\n",
    "    resizes image to fit into new shape with saving original aspect ratio and pads it to meet stride-multiple constraints\n",
    "\n",
    "    Parameters:\n",
    "      img (np.ndarray): image for preprocessing\n",
    "      new_shape (Tuple(int, int)): image size after preprocessing in format [height, width]\n",
    "      color (Tuple(int, int, int)): color for filling padded area\n",
    "      auto (bool): use dynamic input size, only padding for stride constrins applied\n",
    "      scale_fill (bool): scale image to fill new_shape\n",
    "      scaleup (bool): allow scale image if it is lower then desired input size, can affect model accuracy\n",
    "      stride (int): input padding stride\n",
    "    Returns:\n",
    "      img (np.ndarray): image after preprocessing\n",
    "      ratio (Tuple(float, float)): hight and width scaling ratio\n",
    "      padding_size (Tuple(int, int)): height and width padding size\n",
    "\n",
    "\n",
    "    \"\"\"\n",
    "    # Resize and pad image while meeting stride-multiple constraints\n",
    "    shape = img.shape[:2]  # current shape [height, width]\n",
    "    if isinstance(new_shape, int):\n",
    "        new_shape = (new_shape, new_shape)\n",
    "\n",
    "    # Scale ratio (new / old)\n",
    "    r = min(new_shape[0] / shape[0], new_shape[1] / shape[1])\n",
    "    if not scaleup:  # only scale down, do not scale up (for better test mAP)\n",
    "        r = min(r, 1.0)\n",
    "\n",
    "    # Compute padding\n",
    "    ratio = r, r  # width, height ratios\n",
    "    new_unpad = int(round(shape[1] * r)), int(round(shape[0] * r))\n",
    "    dw, dh = new_shape[1] - new_unpad[0], new_shape[0] - new_unpad[1]  # wh padding\n",
    "    if auto:  # minimum rectangle\n",
    "        dw, dh = np.mod(dw, stride), np.mod(dh, stride)  # wh padding\n",
    "    elif scale_fill:  # stretch\n",
    "        dw, dh = 0.0, 0.0\n",
    "        new_unpad = (new_shape[1], new_shape[0])\n",
    "        ratio = new_shape[1] / shape[1], new_shape[0] / shape[0]  # width, height ratios\n",
    "\n",
    "    dw /= 2  # divide padding into 2 sides\n",
    "    dh /= 2\n",
    "\n",
    "    if shape[::-1] != new_unpad:  # resize\n",
    "        img = cv2.resize(img, new_unpad, interpolation=cv2.INTER_LINEAR)\n",
    "    top, bottom = int(round(dh - 0.1)), int(round(dh + 0.1))\n",
    "    left, right = int(round(dw - 0.1)), int(round(dw + 0.1))\n",
    "    img = cv2.copyMakeBorder(img, top, bottom, left, right, cv2.BORDER_CONSTANT, value=color)  # add border\n",
    "    return img, ratio, (dw, dh)\n",
    "\n",
    "\n",
    "def preprocess_image(img0: np.ndarray):\n",
    "    \"\"\"\n",
    "    Preprocess image according to YOLOv8 input requirements.\n",
    "    Takes image in np.array format, resizes it to specific size using letterbox resize and changes data layout from HWC to CHW.\n",
    "\n",
    "    Parameters:\n",
    "      img0 (np.ndarray): image for preprocessing\n",
    "    Returns:\n",
    "      img (np.ndarray): image after preprocessing\n",
    "    \"\"\"\n",
    "    # resize\n",
    "    img = letterbox(img0)[0]\n",
    "\n",
    "    # Convert HWC to CHW\n",
    "    img = img.transpose(2, 0, 1)\n",
    "    img = np.ascontiguousarray(img)\n",
    "    return img\n",
    "\n",
    "\n",
    "def image_to_tensor(image:np.ndarray):\n",
    "    \"\"\"\n",
    "    Preprocess image according to YOLOv8 input requirements.\n",
    "    Takes image in np.array format, resizes it to specific size using letterbox resize and changes data layout from HWC to CHW.\n",
    "\n",
    "    Parameters:\n",
    "      img (np.ndarray): image for preprocessing\n",
    "    Returns:\n",
    "      input_tensor (np.ndarray): input tensor in NCHW format with float32 values in [0, 1] range\n",
    "    \"\"\"\n",
    "    input_tensor = image.astype(np.float32)  # uint8 to fp32\n",
    "    input_tensor /= 255.0  # 0 - 255 to 0.0 - 1.0\n",
    "\n",
    "    # add batch dimension\n",
    "    if input_tensor.ndim == 3:\n",
    "        input_tensor = np.expand_dims(input_tensor, 0)\n",
    "    return input_tensor"
   ]
  },
  {
   "cell_type": "code",
   "execution_count": null,
   "metadata": {
    "id": "22IOd7uV0vwc"
   },
   "outputs": [],
   "source": [
    "try:\n",
    "    scale_segments = ops.scale_segments\n",
    "except AttributeError:\n",
    "    scale_segments = ops.scale_coords\n",
    "\n",
    "def postprocess(\n",
    "    pred_boxes:np.ndarray,\n",
    "    input_hw:Tuple[int, int],\n",
    "    orig_img:np.ndarray,\n",
    "    min_conf_threshold:float = 0.25,\n",
    "    nms_iou_threshold:float = 0.7,\n",
    "    agnosting_nms:bool = False,\n",
    "    max_detections:int = 300,\n",
    "    pred_masks:np.ndarray = None,\n",
    "    retina_mask:bool = False,\n",
    "    number_of_class = 1\n",
    "):\n",
    "    \"\"\"\n",
    "    YOLOv8 model postprocessing function. Applied non maximum supression algorithm to detections and rescale boxes to original image size\n",
    "    Parameters:\n",
    "        pred_boxes (np.ndarray): model output prediction boxes\n",
    "        input_hw (np.ndarray): preprocessed image\n",
    "        orig_image (np.ndarray): image before preprocessing\n",
    "        min_conf_threshold (float, *optional*, 0.25): minimal accepted confidence for object filtering\n",
    "        nms_iou_threshold (float, *optional*, 0.45): minimal overlap score for removing objects duplicates in NMS\n",
    "        agnostic_nms (bool, *optiona*, False): apply class agnostinc NMS approach or not\n",
    "        max_detections (int, *optional*, 300):  maximum detections after NMS\n",
    "        pred_masks (np.ndarray, *optional*, None): model ooutput prediction masks, if not provided only boxes will be postprocessed\n",
    "        retina_mask (bool, *optional*, False): retina mask postprocessing instead of native decoding\n",
    "    Returns:\n",
    "       pred (List[Dict[str, np.ndarray]]): list of dictionary with det - detected boxes in format [x1, y1, x2, y2, score, label] and segment - segmentation polygons for each element in batch\n",
    "    \"\"\"\n",
    "    nms_kwargs = {\"agnostic\": agnosting_nms, \"max_det\":max_detections}\n",
    "    # if pred_masks is not None:\n",
    "    #     nms_kwargs[\"nm\"] = 32\n",
    "    preds = ops.non_max_suppression(\n",
    "        torch.from_numpy(pred_boxes),\n",
    "        min_conf_threshold,\n",
    "        nms_iou_threshold,\n",
    "        nc=number_of_class,\n",
    "        **nms_kwargs\n",
    "    )\n",
    "    results = []\n",
    "    proto = torch.from_numpy(pred_masks) if pred_masks is not None else None\n",
    "\n",
    "    for i, pred in enumerate(preds):\n",
    "        shape = orig_img[i].shape if isinstance(orig_img, list) else orig_img.shape\n",
    "        if not len(pred):\n",
    "            results.append({\"det\": [], \"segment\": []})\n",
    "            continue\n",
    "        if proto is None:\n",
    "            pred[:, :4] = ops.scale_boxes(input_hw, pred[:, :4], shape).round()\n",
    "            results.append({\"det\": pred})\n",
    "            continue\n",
    "        if retina_mask:\n",
    "            pred[:, :4] = ops.scale_boxes(input_hw, pred[:, :4], shape).round()\n",
    "            masks = ops.process_mask_native(proto[i], pred[:, 6:], pred[:, :4], shape[:2])  # HWC\n",
    "            segments = [scale_segments(input_hw, x, shape, normalize=False) for x in ops.masks2segments(masks)]\n",
    "        else:\n",
    "            masks = ops.process_mask(proto[i], pred[:, 6:], pred[:, :4], input_hw, upsample=True)\n",
    "            pred[:, :4] = ops.scale_boxes(input_hw, pred[:, :4], shape).round()\n",
    "            segments = [scale_segments(input_hw, x, shape, normalize=False) for x in ops.masks2segments(masks)]\n",
    "        results.append({\"det\": pred[:, :6].numpy(), \"segment\": segments})\n",
    "    return results"
   ]
  },
  {
   "cell_type": "code",
   "execution_count": null,
   "metadata": {
    "id": "-r2f2Bo4Vdw9"
   },
   "outputs": [],
   "source": [
    "# your pretrained model\n",
    "experiment = 'yolov8n_custom3'\n",
    "det_model = YOLO(f\"runs/detect/{experiment}/weights/best.pt\")\n",
    "\n",
    "# export model to openvino format (using prebuilt export function in yolov8)\n",
    "openvino_path = f\"runs/detect/{experiment}/weights/best_openvino_model/best.xml\"\n",
    "if not os.path.isfile(openvino_path):\n",
    "    det_model.export(format=\"openvino\", dynamic=True, half=False)"
   ]
  }
 ],
 "metadata": {
  "accelerator": "GPU",
  "colab": {
   "collapsed_sections": [
    "MPLQBMD9zY8a",
    "6mkroxtd-RR_",
    "r_qAalFo-Wxv",
    "w47MCGCJWQDa",
    "9m1auO4ThIW_",
    "oAl2NLo4XI0U",
    "CwyHFqsNnsLk"
   ],
   "gpuType": "T4",
   "provenance": [],
   "toc_visible": true
  },
  "kernelspec": {
   "display_name": "Python 3 (ipykernel)",
   "language": "python",
   "name": "python3"
  },
  "language_info": {
   "codemirror_mode": {
    "name": "ipython",
    "version": 3
   },
   "file_extension": ".py",
   "mimetype": "text/x-python",
   "name": "python",
   "nbconvert_exporter": "python",
   "pygments_lexer": "ipython3",
   "version": "3.8.10"
  }
 },
 "nbformat": 4,
 "nbformat_minor": 4
}
