{
  "nbformat": 4,
  "nbformat_minor": 0,
  "metadata": {
    "colab": {
      "provenance": [],
      "collapsed_sections": [
        "MPLQBMD9zY8a",
        "6mkroxtd-RR_",
        "r_qAalFo-Wxv",
        "w47MCGCJWQDa",
        "9m1auO4ThIW_",
        "oAl2NLo4XI0U",
        "CwyHFqsNnsLk"
      ],
      "gpuType": "T4",
      "toc_visible": true
    },
    "kernelspec": {
      "name": "python3",
      "display_name": "Python 3"
    },
    "language_info": {
      "name": "python"
    },
    "accelerator": "GPU"
  },
  "cells": [
    {
      "cell_type": "markdown",
      "source": [
        "# **YOLOv8 Training for UFDD dataset**\n",
        "\n",
        "**Author:** [Yi-Jie Wong](https://www.linkedin.com/in/wongyijie/)<br>\n",
        "**Date created:** 2023/07/19<br>\n",
        "**Last modified:** 2023/09/15<br>\n",
        "**Description:** Training YOLOv8 for UFDD Dataset + Conversion to OpenVINO\n",
        "\n",
        "Reference\n",
        "*   [How to use the Python API for YOLOv8](https://learnopencv.com/train-yolov8-on-custom-dataset/)\n",
        "*   [How to use YOLOv5](https://colab.research.google.com/github/ultralytics/yolov5/blob/master/tutorial.ipynb#scrollTo=zR9ZbuQCH7FX)\n",
        "*   [yolo data format: x_c, y_c, w, h](https://github.com/ultralytics/yolov5/issues/2293#issuecomment-785534291)\n",
        "*   [UFDD dataset](https://paperswithcode.com/dataset/ufdd)\n",
        "*   [OpenVINO for YOLOv8](https://github.com/openvinotoolkit/openvino_notebooks/blob/main/notebooks/230-yolov8-optimization/230-yolov8-optimization.ipynb)\n",
        "\n"
      ],
      "metadata": {
        "id": "oqUNrewEF_97"
      }
    },
    {
      "cell_type": "markdown",
      "source": [
        "## **Get Ready UFDD dataset**"
      ],
      "metadata": {
        "id": "MPLQBMD9zY8a"
      }
    },
    {
      "cell_type": "markdown",
      "source": [
        "### Download UFDD dataset\n",
        "\n",
        "Unconstrained Face Detection Dataset (UFDD) is a Face Detection dataset aims to fuel further research in unconstrained face detection.\n",
        "\n",
        "<img src=\"https://production-media.paperswithcode.com/datasets/Screenshot_2021-02-01_at_16.05.53.png\" alt=\"UFDD data example\">"
      ],
      "metadata": {
        "id": "6mkroxtd-RR_"
      }
    },
    {
      "cell_type": "code",
      "source": [
        "from IPython.display import clear_output\n",
        "\n",
        "!wget --no-check-certificate 'https://docs.google.com/uc?export=download&id=1aGR7FryrRuS86S9LBAqFksy-QDqsgBRV' -O \"UFDD-annotationfile.zip\"\n",
        "!unzip \"UFDD-annotationfile.zip\"\n",
        "\n",
        "clear_output()"
      ],
      "metadata": {
        "id": "nJSEAPGzUFhP"
      },
      "execution_count": null,
      "outputs": []
    },
    {
      "cell_type": "code",
      "source": [
        "!wget --no-check-certificate 'https://docs.google.com/uc?export=download&id=1bZGzDx_CgNnxoRdLnmMLiZ3F9k5lnY4J' -O \"UFDD_information.zip\"\n",
        "!unzip \"UFDD_information.zip\"\n",
        "\n",
        "clear_output()"
      ],
      "metadata": {
        "id": "iuMwDWJtYCSj"
      },
      "execution_count": null,
      "outputs": []
    },
    {
      "cell_type": "code",
      "source": [
        "!wget --load-cookies /tmp/cookies.txt \"https://docs.google.com/uc?export=download&confirm=$(wget --quiet --save-cookies /tmp/cookies.txt --keep-session-cookies --no-check-certificate 'https://docs.google.com/uc?export=download&id=1o-lsXB7XLc4F39zQyZgwrabWyN1M5NBY' -O- | sed -rn 's/.*confirm=([0-9A-Za-z_]+).*/\\1\\n/p')&id=1o-lsXB7XLc4F39zQyZgwrabWyN1M5NBY\" -O \"UFDD_val.zip\" && rm -rf /tmp/cookies.txt\n",
        "!unzip \"UFDD_val.zip\"\n",
        "\n",
        "clear_output()"
      ],
      "metadata": {
        "id": "ZN0S9Is9XEXf"
      },
      "execution_count": null,
      "outputs": []
    },
    {
      "cell_type": "code",
      "source": [
        "# remove the zip file\n",
        "import os, shutil\n",
        "\n",
        "for filename in os.listdir(os.getcwd()):\n",
        "    if filename.endswith('.zip'):\n",
        "        os.remove(filename)"
      ],
      "metadata": {
        "id": "BruY9clWZjWN"
      },
      "execution_count": null,
      "outputs": []
    },
    {
      "cell_type": "markdown",
      "source": [
        "### Get ready the dataset\n",
        "1.   Split dataset\n",
        "2.   Convert dataset into [appropriate format](https://github.com/ultralytics/yolov5/issues/2293#issuecomment-785534291)\n",
        "\n",
        "\n",
        "#### 1. Split Dataset\n",
        "For YOLOv5 and YOLOv8, you need to split your dataset following the directory structure below:\n",
        "```\n",
        "UFDD\n",
        "├── train\n",
        "│   └── images  \n",
        "│   └── labels  \n",
        "├── valid\n",
        "│   └── images  \n",
        "│   └── labels  \n",
        "```\n",
        "In this case, we created a folder called ```UFDD``` to store all data for UFDD dataset. All training data and validation data is stored in ```train``` and ```valid``` folder, respectively. ```images``` store all image for training/validation, while ```labels``` store all the labels for each image. Refer next part for the label format </br></br>\n",
        "\n",
        "\n",
        "\n",
        "#### 2. Dataset format\n",
        "For each ```xxx.jpg``` (or other image format), you have a corresponding label file ```xxx.txt``` which follows the format below:\n",
        "\n",
        "*   One row per object\n",
        "*   Each row is ```class, x_center, y_center, width, height``` format.\n",
        "*   Box coordinates must be in ```normalized xywh format (from 0 - 1)```. If your boxes are in pixels, divide x_center and width by image width, and y_center and height by image height.\n",
        "*   Class numbers are zero-indexed (start from 0)."
      ],
      "metadata": {
        "id": "r_qAalFo-Wxv"
      }
    },
    {
      "cell_type": "code",
      "source": [
        "data_dir = 'UFDD'\n",
        "\n",
        "if not os.path.isdir(data_dir):\n",
        "    os.mkdir(data_dir)\n",
        "    os.mkdir(os.path.join(data_dir, 'train'))\n",
        "    os.mkdir(os.path.join(data_dir, 'train', 'images'))\n",
        "    os.mkdir(os.path.join(data_dir, 'train', 'labels'))\n",
        "\n",
        "    os.mkdir(os.path.join(data_dir, 'valid'))\n",
        "    os.mkdir(os.path.join(data_dir, 'valid', 'images'))\n",
        "    os.mkdir(os.path.join(data_dir, 'valid', 'labels'))"
      ],
      "metadata": {
        "id": "BNZOqCaRsSXn"
      },
      "execution_count": null,
      "outputs": []
    },
    {
      "cell_type": "code",
      "source": [
        "import matplotlib.pyplot as plt\n",
        "\n",
        "filename = 'UFDD-annotationfile/UFDD_split/UFDD_val_bbx_gt.txt'\n",
        "#filename = 'UFDD-annotationfile/UFDD_split/UFDD_val_bbx_gt-woDistractor.txt'\n",
        "\n",
        "with open(filename, 'r') as file:\n",
        "    # read lines\n",
        "    lines = file.readlines()\n",
        "\n",
        "    # loop all lines\n",
        "    paths = []\n",
        "    annots = []\n",
        "    annot = []\n",
        "\n",
        "    i = 0\n",
        "    while i != len(lines):\n",
        "        line = lines[i].replace('\\n', '')\n",
        "        path = os.path.join('/content/UFDD_val/images', line)\n",
        "        if os.path.exists(path):\n",
        "            # add path to paths\n",
        "            paths.append(path)\n",
        "            i += 1\n",
        "\n",
        "            # load image\n",
        "            img = plt.imread(path)\n",
        "            try:\n",
        "                y_shape, x_shape, _ = img.shape\n",
        "            except:\n",
        "                y_shape, x_shape = img.shape\n",
        "\n",
        "            # next line is total object in this image\n",
        "            count = int(lines[i].replace('\\n', ''))\n",
        "            i += 1\n",
        "\n",
        "            # get all annot in this image\n",
        "            for _ in range(count):\n",
        "                # read next line\n",
        "                line = lines[i].replace('\\n', '')\n",
        "\n",
        "                # split to x_start, y_start, x_range, y_range\n",
        "                alist = line.split()\n",
        "                alist = [int(item) for item in alist]\n",
        "                x_start, y_start, x_range, y_range, _, _, _, _, _ = alist\n",
        "\n",
        "                # normalize to 0 - 1\n",
        "                x_start, x_range = x_start / x_shape, x_range / x_shape\n",
        "                y_start, y_range = y_start / y_shape, y_range / y_shape\n",
        "\n",
        "                # find x_c, y_c, w, h\n",
        "                x_c = x_start + x_range/2\n",
        "                y_c = y_start + y_range/2\n",
        "                w = x_range\n",
        "                h = y_range\n",
        "\n",
        "                annot.append('0 {:.6f} {:.6f} {:.6f} {:.6f}'.format(x_c, y_c, w, h))\n",
        "                i += 1\n",
        "\n",
        "            # add annot to annots\n",
        "            annots.append(annot)\n",
        "            annot = []\n",
        "        else:\n",
        "            raise NotImplementedError\n",
        "\n",
        "assert len(paths) == len(annots)"
      ],
      "metadata": {
        "id": "9-3OUBUBtcdP"
      },
      "execution_count": null,
      "outputs": []
    },
    {
      "cell_type": "code",
      "source": [
        "# show that the format is correct\n",
        "\n",
        "i = 0\n",
        "\n",
        "# get image\n",
        "img = plt.imread(paths[i])\n",
        "y_shape, x_shape, _ = img.shape\n",
        "\n",
        "annot = annots[i][0]\n",
        "alist = annot.split()\n",
        "alist = [float(item) for item in alist]\n",
        "_, x_c, y_c, w, h = alist\n",
        "x_c, w = x_c * x_shape, w * x_shape\n",
        "y_c, h = y_c * y_shape, h * y_shape\n",
        "y_start = int(y_c - h / 2)\n",
        "x_start = int(x_c - w / 2)\n",
        "y_range = int(h)\n",
        "x_range = int(w)\n",
        "\n",
        "img = img[y_start:int(y_start+y_range), x_start:int(x_start+x_range),:]\n",
        "plt.imshow(img)"
      ],
      "metadata": {
        "id": "wNsUmwU11lpM"
      },
      "execution_count": null,
      "outputs": []
    },
    {
      "cell_type": "code",
      "source": [
        "# shuffle the data\n",
        "import numpy as np\n",
        "\n",
        "SEED = 123\n",
        "\n",
        "np.random.seed(SEED)\n",
        "np.random.shuffle(paths)\n",
        "np.random.seed(SEED)\n",
        "np.random.shuffle(annots)"
      ],
      "metadata": {
        "id": "A3VVLfcAyM-x"
      },
      "execution_count": null,
      "outputs": []
    },
    {
      "cell_type": "code",
      "source": [
        "# split the data (in appropriate format)\n",
        "\n",
        "TRAIN_RATIO = 0.8\n",
        "\n",
        "for i, (path, annot) in enumerate(zip(paths, annots)):\n",
        "    if i <= int(TRAIN_RATIO * len(paths)):\n",
        "        image_dir = 'UFDD/train/images'\n",
        "        label_dir = 'UFDD/train/labels'\n",
        "    else:\n",
        "        image_dir = 'UFDD/valid/images'\n",
        "        label_dir = 'UFDD/valid/labels'\n",
        "\n",
        "    # get path\n",
        "    ori_image_path = paths[i]\n",
        "    new_image_path = os.path.join(image_dir, os.path.basename(paths[i]))\n",
        "    annot_path = os.path.join(label_dir, os.path.splitext(os.path.basename(new_image_path))[0]+'.txt')\n",
        "\n",
        "    # copy image to new directory\n",
        "    shutil.copyfile(ori_image_path, new_image_path)\n",
        "\n",
        "    # save annotation as txt file\n",
        "    with open(annot_path, 'w') as file:\n",
        "        for item in annot:\n",
        "            file.write(item + '\\n')"
      ],
      "metadata": {
        "id": "sJIL2imx_RnK"
      },
      "execution_count": null,
      "outputs": []
    },
    {
      "cell_type": "code",
      "source": [
        "# get ready the yaml file for the dataset\n",
        "current_dir = os.getcwd()\n",
        "\n",
        "yaml_config = [\n",
        "    f\"train: '{current_dir}/UFDD/train'\",\n",
        "    f\"val: '{current_dir}/UFDD/valid'\",\n",
        "    \"\",\n",
        "    \"# class names\",\n",
        "    \"names: \",\n",
        "    \"  0: 'face'\"\n",
        "]\n",
        "\n",
        "# save annotation as txt file\n",
        "yaml_file = 'UFDD.yaml'\n",
        "with open(yaml_file, 'w') as file:\n",
        "    for item in yaml_config:\n",
        "        file.write(item + '\\n')"
      ],
      "metadata": {
        "id": "c_49srOQL2Vr"
      },
      "execution_count": null,
      "outputs": []
    },
    {
      "cell_type": "markdown",
      "source": [
        "## **YOLOv8 Training**"
      ],
      "metadata": {
        "id": "RCmRxq2Fjqtf"
      }
    },
    {
      "cell_type": "markdown",
      "source": [
        "### Training"
      ],
      "metadata": {
        "id": "Bvu9T_nQDqN3"
      }
    },
    {
      "cell_type": "code",
      "execution_count": null,
      "metadata": {
        "id": "rEf9S6_JTpsP"
      },
      "outputs": [],
      "source": [
        "!pip install ultralytics==8.0.157"
      ]
    },
    {
      "cell_type": "code",
      "source": [
        "# !yolo task=detect \\\n",
        "# mode=predict \\\n",
        "# model=yolov8n.pt \\\n",
        "# conf=0.25 \\\n",
        "# source='https://media.roboflow.com/notebooks/examples/dog.jpeg'"
      ],
      "metadata": {
        "id": "Cp1xNdwWT9Rf"
      },
      "execution_count": null,
      "outputs": []
    },
    {
      "cell_type": "code",
      "source": [
        "from ultralytics import YOLO\n",
        "\n",
        "# Load the pretrained model\n",
        "model = YOLO('yolov8n.pt')"
      ],
      "metadata": {
        "id": "_1fpg8b9ceOD"
      },
      "execution_count": null,
      "outputs": []
    },
    {
      "cell_type": "code",
      "source": [
        "from ultralytics import YOLO\n",
        "\n",
        "# Load the pretrained model\n",
        "model = YOLO('yolov8n.pt')\n",
        "\n",
        "# Training.\n",
        "results = model.train(\n",
        "   data=yaml_file,\n",
        "   imgsz=640,\n",
        "   epochs=1, # 10 epochs just for testing, should be 100\n",
        "   batch=64,\n",
        "   #amp=False,\n",
        "   name='yolov8n_custom')"
      ],
      "metadata": {
        "id": "vgOnrDFhC9kI"
      },
      "execution_count": null,
      "outputs": []
    },
    {
      "cell_type": "markdown",
      "source": [
        "### Detect demo"
      ],
      "metadata": {
        "id": "9Xcub18TLF8T"
      }
    },
    {
      "cell_type": "code",
      "source": [
        "import locale\n",
        "locale.getpreferredencoding = lambda: \"UTF-8\""
      ],
      "metadata": {
        "id": "LVqpMd2QjidE"
      },
      "execution_count": null,
      "outputs": []
    },
    {
      "cell_type": "code",
      "source": [
        "!yolo task=detect \\\n",
        "mode=predict \\\n",
        "model=\"/content/runs/detect/yolov8n_custom/weights/best.pt\" \\\n",
        "source=\"/content/UFDD_val/images/haze/haze_02101.jpg\" \\\n",
        "show=True \\\n",
        "imgsz=640 \\\n",
        "name=yolov8n_inference \\\n",
        "show_labels=False"
      ],
      "metadata": {
        "id": "oUVDLEy8DWTr"
      },
      "execution_count": null,
      "outputs": []
    },
    {
      "cell_type": "markdown",
      "source": [
        "## **YOLOv5 Training**"
      ],
      "metadata": {
        "id": "U_dfUkTpzbzb"
      }
    },
    {
      "cell_type": "markdown",
      "source": [
        "### Training"
      ],
      "metadata": {
        "id": "2vsAYUQN0OwN"
      }
    },
    {
      "cell_type": "code",
      "source": [
        "!git clone https://github.com/ultralytics/yolov5  # clone\n",
        "%cd yolov5\n",
        "%pip install -qr requirements.txt comet_ml  # install\n",
        "\n",
        "import torch\n",
        "import utils\n",
        "display = utils.notebook_init()  # checks"
      ],
      "metadata": {
        "id": "ZW4xZH8h0AMH"
      },
      "execution_count": null,
      "outputs": []
    },
    {
      "cell_type": "code",
      "source": [
        "# Train YOLOv5n\n",
        "!python train.py --img 640 --batch 64 --epochs 1 --data \"/content/UFDD.yaml\" --weights yolov5n.pt #--cache"
      ],
      "metadata": {
        "id": "mIO4oq4V0Ti_"
      },
      "execution_count": null,
      "outputs": []
    },
    {
      "cell_type": "markdown",
      "source": [
        "### Demo"
      ],
      "metadata": {
        "id": "0Z-Jxew85qUG"
      }
    },
    {
      "cell_type": "code",
      "source": [
        "!python detect.py --weights \"runs/train/exp3/weights/best.pt\" --img 640 --conf 0.25 --source \"/content/UFDD_val/images/haze/haze_02101.jpg\"\n",
        "# display.Image(filename='runs/detect/exp/zidane.jpg', width=600)"
      ],
      "metadata": {
        "id": "D2bytS9j5yLd"
      },
      "execution_count": null,
      "outputs": []
    },
    {
      "cell_type": "markdown",
      "source": [
        "## **OpenVINO for YOLOv8**\n",
        "\n"
      ],
      "metadata": {
        "id": "C1KefTLwRQEn"
      }
    },
    {
      "cell_type": "markdown",
      "source": [
        "### Install dependencies"
      ],
      "metadata": {
        "id": "w47MCGCJWQDa"
      }
    },
    {
      "cell_type": "code",
      "source": [
        "!pip install -q \"openvino-dev>=2023.0.0\" \"nncf>=2.5.0\"\n",
        "!pip install -q \"ultralytics==8.0.157\" onnx"
      ],
      "metadata": {
        "id": "XIH9c6MFIrb5"
      },
      "execution_count": null,
      "outputs": []
    },
    {
      "cell_type": "code",
      "source": [
        "from pathlib import Path\n",
        "\n",
        "# Fetch the notebook utils script from the openvino_notebooks repo\n",
        "import urllib.request\n",
        "urllib.request.urlretrieve(\n",
        "    url='https://raw.githubusercontent.com/openvinotoolkit/openvino_notebooks/main/notebooks/utils/notebook_utils.py',\n",
        "    filename='notebook_utils.py'\n",
        ")\n",
        "\n",
        "from notebook_utils import download_file, VideoPlayer"
      ],
      "metadata": {
        "id": "D_BCAunQRUx9"
      },
      "execution_count": null,
      "outputs": []
    },
    {
      "cell_type": "markdown",
      "source": [
        "### Utility function"
      ],
      "metadata": {
        "id": "9m1auO4ThIW_"
      }
    },
    {
      "cell_type": "code",
      "source": [
        "from typing import Tuple, Dict\n",
        "import cv2\n",
        "import numpy as np\n",
        "from PIL import Image\n",
        "from ultralytics.yolo.utils.plotting import colors\n",
        "\n",
        "\n",
        "def plot_one_box(box:np.ndarray, img:np.ndarray, color:Tuple[int, int, int] = None, mask:np.ndarray = None, label:str = None, line_thickness:int = 5):\n",
        "    \"\"\"\n",
        "    Helper function for drawing single bounding box on image\n",
        "    Parameters:\n",
        "        x (np.ndarray): bounding box coordinates in format [x1, y1, x2, y2]\n",
        "        img (no.ndarray): input image\n",
        "        color (Tuple[int, int, int], *optional*, None): color in BGR format for drawing box, if not specified will be selected randomly\n",
        "        mask (np.ndarray, *optional*, None): instance segmentation mask polygon in format [N, 2], where N - number of points in contour, if not provided, only box will be drawn\n",
        "        label (str, *optonal*, None): box label string, if not provided will not be provided as drowing result\n",
        "        line_thickness (int, *optional*, 5): thickness for box drawing lines\n",
        "    \"\"\"\n",
        "    # Plots one bounding box on image img\n",
        "    tl = line_thickness or round(0.002 * (img.shape[0] + img.shape[1]) / 2) + 1  # line/font thickness\n",
        "    color = color or [random.randint(0, 255) for _ in range(3)]\n",
        "    c1, c2 = (int(box[0]), int(box[1])), (int(box[2]), int(box[3]))\n",
        "    cv2.rectangle(img, c1, c2, color, thickness=tl, lineType=cv2.LINE_AA)\n",
        "    if label:\n",
        "        tf = max(tl - 1, 1)  # font thickness\n",
        "        t_size = cv2.getTextSize(label, 0, fontScale=tl / 3, thickness=tf)[0]\n",
        "        c2 = c1[0] + t_size[0], c1[1] - t_size[1] - 3\n",
        "        cv2.rectangle(img, c1, c2, color, -1, cv2.LINE_AA)  # filled\n",
        "        cv2.putText(img, label, (c1[0], c1[1] - 2), 0, tl / 3, [225, 255, 255], thickness=tf, lineType=cv2.LINE_AA)\n",
        "    if mask is not None:\n",
        "        image_with_mask = img.copy()\n",
        "        mask\n",
        "        cv2.fillPoly(image_with_mask, pts=[mask.astype(int)], color=color)\n",
        "        img = cv2.addWeighted(img, 0.5, image_with_mask, 0.5, 1)\n",
        "    return img\n",
        "\n",
        "\n",
        "def draw_results(results:Dict, source_image:np.ndarray, label_map:Dict):\n",
        "    \"\"\"\n",
        "    Helper function for drawing bounding boxes on image\n",
        "    Parameters:\n",
        "        image_res (np.ndarray): detection predictions in format [x1, y1, x2, y2, score, label_id]\n",
        "        source_image (np.ndarray): input image for drawing\n",
        "        label_map; (Dict[int, str]): label_id to class name mapping\n",
        "    Returns:\n",
        "\n",
        "    \"\"\"\n",
        "    boxes = results[\"det\"]\n",
        "    masks = results.get(\"segment\")\n",
        "    h, w = source_image.shape[:2]\n",
        "    for idx, (*xyxy, conf, lbl) in enumerate(boxes):\n",
        "        label = f'{label_map[int(lbl)]} {conf:.2f}'\n",
        "        mask = masks[idx] if masks is not None else None\n",
        "        source_image = plot_one_box(xyxy, source_image, mask=mask, label=label, color=colors(int(lbl)), line_thickness=1)\n",
        "    return source_image"
      ],
      "metadata": {
        "id": "JVHl_p9PRYZt"
      },
      "execution_count": null,
      "outputs": []
    },
    {
      "cell_type": "code",
      "source": [
        "from typing import Tuple\n",
        "from ultralytics.yolo.utils import ops\n",
        "import torch\n",
        "import numpy as np\n",
        "\n",
        "\n",
        "def letterbox(img: np.ndarray, new_shape:Tuple[int, int] = (640, 640), color:Tuple[int, int, int] = (114, 114, 114), auto:bool = False, scale_fill:bool = False, scaleup:bool = False, stride:int = 32):\n",
        "    \"\"\"\n",
        "    Resize image and padding for detection. Takes image as input,\n",
        "    resizes image to fit into new shape with saving original aspect ratio and pads it to meet stride-multiple constraints\n",
        "\n",
        "    Parameters:\n",
        "      img (np.ndarray): image for preprocessing\n",
        "      new_shape (Tuple(int, int)): image size after preprocessing in format [height, width]\n",
        "      color (Tuple(int, int, int)): color for filling padded area\n",
        "      auto (bool): use dynamic input size, only padding for stride constrins applied\n",
        "      scale_fill (bool): scale image to fill new_shape\n",
        "      scaleup (bool): allow scale image if it is lower then desired input size, can affect model accuracy\n",
        "      stride (int): input padding stride\n",
        "    Returns:\n",
        "      img (np.ndarray): image after preprocessing\n",
        "      ratio (Tuple(float, float)): hight and width scaling ratio\n",
        "      padding_size (Tuple(int, int)): height and width padding size\n",
        "\n",
        "\n",
        "    \"\"\"\n",
        "    # Resize and pad image while meeting stride-multiple constraints\n",
        "    shape = img.shape[:2]  # current shape [height, width]\n",
        "    if isinstance(new_shape, int):\n",
        "        new_shape = (new_shape, new_shape)\n",
        "\n",
        "    # Scale ratio (new / old)\n",
        "    r = min(new_shape[0] / shape[0], new_shape[1] / shape[1])\n",
        "    if not scaleup:  # only scale down, do not scale up (for better test mAP)\n",
        "        r = min(r, 1.0)\n",
        "\n",
        "    # Compute padding\n",
        "    ratio = r, r  # width, height ratios\n",
        "    new_unpad = int(round(shape[1] * r)), int(round(shape[0] * r))\n",
        "    dw, dh = new_shape[1] - new_unpad[0], new_shape[0] - new_unpad[1]  # wh padding\n",
        "    if auto:  # minimum rectangle\n",
        "        dw, dh = np.mod(dw, stride), np.mod(dh, stride)  # wh padding\n",
        "    elif scale_fill:  # stretch\n",
        "        dw, dh = 0.0, 0.0\n",
        "        new_unpad = (new_shape[1], new_shape[0])\n",
        "        ratio = new_shape[1] / shape[1], new_shape[0] / shape[0]  # width, height ratios\n",
        "\n",
        "    dw /= 2  # divide padding into 2 sides\n",
        "    dh /= 2\n",
        "\n",
        "    if shape[::-1] != new_unpad:  # resize\n",
        "        img = cv2.resize(img, new_unpad, interpolation=cv2.INTER_LINEAR)\n",
        "    top, bottom = int(round(dh - 0.1)), int(round(dh + 0.1))\n",
        "    left, right = int(round(dw - 0.1)), int(round(dw + 0.1))\n",
        "    img = cv2.copyMakeBorder(img, top, bottom, left, right, cv2.BORDER_CONSTANT, value=color)  # add border\n",
        "    return img, ratio, (dw, dh)\n",
        "\n",
        "\n",
        "def preprocess_image(img0: np.ndarray):\n",
        "    \"\"\"\n",
        "    Preprocess image according to YOLOv8 input requirements.\n",
        "    Takes image in np.array format, resizes it to specific size using letterbox resize and changes data layout from HWC to CHW.\n",
        "\n",
        "    Parameters:\n",
        "      img0 (np.ndarray): image for preprocessing\n",
        "    Returns:\n",
        "      img (np.ndarray): image after preprocessing\n",
        "    \"\"\"\n",
        "    # resize\n",
        "    img = letterbox(img0)[0]\n",
        "\n",
        "    # Convert HWC to CHW\n",
        "    img = img.transpose(2, 0, 1)\n",
        "    img = np.ascontiguousarray(img)\n",
        "    return img\n",
        "\n",
        "\n",
        "def image_to_tensor(image:np.ndarray):\n",
        "    \"\"\"\n",
        "    Preprocess image according to YOLOv8 input requirements.\n",
        "    Takes image in np.array format, resizes it to specific size using letterbox resize and changes data layout from HWC to CHW.\n",
        "\n",
        "    Parameters:\n",
        "      img (np.ndarray): image for preprocessing\n",
        "    Returns:\n",
        "      input_tensor (np.ndarray): input tensor in NCHW format with float32 values in [0, 1] range\n",
        "    \"\"\"\n",
        "    input_tensor = image.astype(np.float32)  # uint8 to fp32\n",
        "    input_tensor /= 255.0  # 0 - 255 to 0.0 - 1.0\n",
        "\n",
        "    # add batch dimension\n",
        "    if input_tensor.ndim == 3:\n",
        "        input_tensor = np.expand_dims(input_tensor, 0)\n",
        "    return input_tensor"
      ],
      "metadata": {
        "id": "gOUQjSqB0yVG"
      },
      "execution_count": null,
      "outputs": []
    },
    {
      "cell_type": "code",
      "source": [
        "try:\n",
        "    scale_segments = ops.scale_segments\n",
        "except AttributeError:\n",
        "    scale_segments = ops.scale_coords\n",
        "\n",
        "def postprocess(\n",
        "    pred_boxes:np.ndarray,\n",
        "    input_hw:Tuple[int, int],\n",
        "    orig_img:np.ndarray,\n",
        "    min_conf_threshold:float = 0.25,\n",
        "    nms_iou_threshold:float = 0.7,\n",
        "    agnosting_nms:bool = False,\n",
        "    max_detections:int = 300,\n",
        "    pred_masks:np.ndarray = None,\n",
        "    retina_mask:bool = False,\n",
        "    number_of_class = 1\n",
        "):\n",
        "    \"\"\"\n",
        "    YOLOv8 model postprocessing function. Applied non maximum supression algorithm to detections and rescale boxes to original image size\n",
        "    Parameters:\n",
        "        pred_boxes (np.ndarray): model output prediction boxes\n",
        "        input_hw (np.ndarray): preprocessed image\n",
        "        orig_image (np.ndarray): image before preprocessing\n",
        "        min_conf_threshold (float, *optional*, 0.25): minimal accepted confidence for object filtering\n",
        "        nms_iou_threshold (float, *optional*, 0.45): minimal overlap score for removing objects duplicates in NMS\n",
        "        agnostic_nms (bool, *optiona*, False): apply class agnostinc NMS approach or not\n",
        "        max_detections (int, *optional*, 300):  maximum detections after NMS\n",
        "        pred_masks (np.ndarray, *optional*, None): model ooutput prediction masks, if not provided only boxes will be postprocessed\n",
        "        retina_mask (bool, *optional*, False): retina mask postprocessing instead of native decoding\n",
        "    Returns:\n",
        "       pred (List[Dict[str, np.ndarray]]): list of dictionary with det - detected boxes in format [x1, y1, x2, y2, score, label] and segment - segmentation polygons for each element in batch\n",
        "    \"\"\"\n",
        "    nms_kwargs = {\"agnostic\": agnosting_nms, \"max_det\":max_detections}\n",
        "    # if pred_masks is not None:\n",
        "    #     nms_kwargs[\"nm\"] = 32\n",
        "    preds = ops.non_max_suppression(\n",
        "        torch.from_numpy(pred_boxes),\n",
        "        min_conf_threshold,\n",
        "        nms_iou_threshold,\n",
        "        nc=number_of_class,\n",
        "        **nms_kwargs\n",
        "    )\n",
        "    results = []\n",
        "    proto = torch.from_numpy(pred_masks) if pred_masks is not None else None\n",
        "\n",
        "    for i, pred in enumerate(preds):\n",
        "        shape = orig_img[i].shape if isinstance(orig_img, list) else orig_img.shape\n",
        "        if not len(pred):\n",
        "            results.append({\"det\": [], \"segment\": []})\n",
        "            continue\n",
        "        if proto is None:\n",
        "            pred[:, :4] = ops.scale_boxes(input_hw, pred[:, :4], shape).round()\n",
        "            results.append({\"det\": pred})\n",
        "            continue\n",
        "        if retina_mask:\n",
        "            pred[:, :4] = ops.scale_boxes(input_hw, pred[:, :4], shape).round()\n",
        "            masks = ops.process_mask_native(proto[i], pred[:, 6:], pred[:, :4], shape[:2])  # HWC\n",
        "            segments = [scale_segments(input_hw, x, shape, normalize=False) for x in ops.masks2segments(masks)]\n",
        "        else:\n",
        "            masks = ops.process_mask(proto[i], pred[:, 6:], pred[:, :4], input_hw, upsample=True)\n",
        "            pred[:, :4] = ops.scale_boxes(input_hw, pred[:, :4], shape).round()\n",
        "            segments = [scale_segments(input_hw, x, shape, normalize=False) for x in ops.masks2segments(masks)]\n",
        "        results.append({\"det\": pred[:, :6].numpy(), \"segment\": segments})\n",
        "    return results"
      ],
      "metadata": {
        "id": "22IOd7uV0vwc"
      },
      "execution_count": null,
      "outputs": []
    },
    {
      "cell_type": "markdown",
      "source": [
        "### Convert PyTorch YOLO model to OpenVINO IR"
      ],
      "metadata": {
        "id": "rxVUtmNxWU6j"
      }
    },
    {
      "cell_type": "code",
      "source": [
        "# Sample image for demo\n",
        "IMAGE_PATH = Path('/content/UFDD_val/images/haze/haze_02101.jpg')\n",
        "\n",
        "# load the yolov8 model\n",
        "from ultralytics import YOLO\n",
        "import os\n",
        "\n",
        "det_model = YOLO(f\"/content/runs/detect/{experiment}/weights/best.pt\")\n",
        "'''\n",
        "if you have pretrained yolo model using ultralytics==8.0.157\n",
        "https://github.com/mikel-brostrom/yolo_tracking/issues/859\n",
        "'''\n",
        "# det_model = YOLO('/content/best.pt')\n",
        "\n",
        "label_map = det_model.model.names\n",
        "\n",
        "res = det_model(IMAGE_PATH)\n",
        "Image.fromarray(res[0].plot()[:, :, ::-1])\n",
        "\n",
        "# export model to openvino format (using prebuilt export function in yolov8)\n",
        "det_model_path = f\"/content/runs/detect/{experiment}/weights/best_openvino_model/best.xml\"\n",
        "if not os.path.isfile(det_model_path):\n",
        "    det_model.export(format=\"openvino\", dynamic=True, half=False)\n",
        "\n",
        "'''\n",
        "if you have pretrained yolo model using ultralytics==8.0.157\n",
        "'''\n",
        "# det_model_path='/content/best_openvino_model/best.xml'"
      ],
      "metadata": {
        "id": "-r2f2Bo4Vdw9"
      },
      "execution_count": null,
      "outputs": []
    },
    {
      "cell_type": "markdown",
      "source": [
        "### verify model inference"
      ],
      "metadata": {
        "id": "oAl2NLo4XI0U"
      }
    },
    {
      "cell_type": "code",
      "source": [
        "import ipywidgets as widgets\n",
        "from openvino.runtime import Core\n",
        "\n",
        "core = Core()\n",
        "\n",
        "device = widgets.Dropdown(\n",
        "    options=core.available_devices + [\"AUTO\"],\n",
        "    value='AUTO',\n",
        "    description='Device:',\n",
        "    disabled=False,\n",
        ")\n",
        "\n",
        "device"
      ],
      "metadata": {
        "id": "3nE3GOQBXPTi"
      },
      "execution_count": null,
      "outputs": []
    },
    {
      "cell_type": "code",
      "source": [
        "det_model_path"
      ],
      "metadata": {
        "id": "e0l2GTDfXoWB"
      },
      "execution_count": null,
      "outputs": []
    },
    {
      "cell_type": "code",
      "source": [
        "device.value"
      ],
      "metadata": {
        "id": "_ME2ackjlxq4"
      },
      "execution_count": null,
      "outputs": []
    },
    {
      "cell_type": "code",
      "source": [
        "from openvino.runtime import Core, Model\n",
        "\n",
        "core = Core()\n",
        "det_ov_model = core.read_model(det_model_path)\n",
        "if device.value != \"CPU\":\n",
        "    det_ov_model.reshape({0: [1, 3, 640, 640]})\n",
        "det_compiled_model = core.compile_model(det_ov_model, device.value)\n",
        "\n",
        "\n",
        "def detect(image:np.ndarray, model:Model):\n",
        "    \"\"\"\n",
        "    OpenVINO YOLOv8 model inference function. Preprocess image, runs model inference and postprocess results using NMS.\n",
        "    Parameters:\n",
        "        image (np.ndarray): input image.\n",
        "        model (Model): OpenVINO compiled model.\n",
        "    Returns:\n",
        "        detections (np.ndarray): detected boxes in format [x1, y1, x2, y2, score, label]\n",
        "    \"\"\"\n",
        "    num_outputs = len(model.outputs)\n",
        "    preprocessed_image = preprocess_image(image)\n",
        "    input_tensor = image_to_tensor(preprocessed_image)\n",
        "    result = model(input_tensor)\n",
        "    boxes = result[model.output(0)]\n",
        "    masks = None\n",
        "    if num_outputs > 1:\n",
        "        masks = result[model.output(1)]\n",
        "    input_hw = input_tensor.shape[2:]\n",
        "    detections = postprocess(pred_boxes=boxes, input_hw=input_hw, orig_img=image, pred_masks=masks)\n",
        "    return detections\n",
        "\n",
        "\n",
        "input_image = np.array(Image.open(IMAGE_PATH))\n",
        "detections = detect(input_image, det_compiled_model)[0]\n",
        "image_with_boxes = draw_results(detections, input_image, label_map)\n",
        "\n",
        "Image.fromarray(image_with_boxes)"
      ],
      "metadata": {
        "id": "e073UbRhXRhC"
      },
      "execution_count": null,
      "outputs": []
    },
    {
      "cell_type": "markdown",
      "source": [
        "# **OpenVINO: Post Training Optimization**\n",
        "Reference\n",
        "*    [Object Detection Quantization](https://docs.openvino.ai/2022.2/notebooks/111-detection-quantization-with-output.html)"
      ],
      "metadata": {
        "id": "CwyHFqsNnsLk"
      }
    },
    {
      "cell_type": "code",
      "source": [
        "from ultralytics.yolo.utils import DEFAULT_CFG\n",
        "from ultralytics.yolo.cfg import get_cfg\n",
        "from ultralytics.yolo.data.utils import check_det_dataset\n",
        "\n",
        "CFG_PATH = 'UFDD.yaml'\n",
        "args = get_cfg(cfg=DEFAULT_CFG)\n",
        "args.data = str(CFG_PATH)"
      ],
      "metadata": {
        "id": "XmXuR6fTDfrx"
      },
      "execution_count": null,
      "outputs": []
    },
    {
      "cell_type": "code",
      "source": [
        "det_model"
      ],
      "metadata": {
        "id": "PcDyf1l8E2Xq"
      },
      "execution_count": null,
      "outputs": []
    },
    {
      "cell_type": "code",
      "source": [
        "det_model = YOLO(\"/content/runs/detect/yolov8n_custom/weights/best.pt\")"
      ],
      "metadata": {
        "id": "iCGav_wQF59M"
      },
      "execution_count": null,
      "outputs": []
    },
    {
      "cell_type": "code",
      "source": [
        "det_validator = det_model.ValidatorClass(args=args)"
      ],
      "metadata": {
        "id": "jEyQYWfED_43"
      },
      "execution_count": null,
      "outputs": []
    },
    {
      "cell_type": "code",
      "source": [
        "import nncf  # noqa: F811\n",
        "from typing import Dict\n",
        "\n",
        "\n",
        "def transform_fn(data_item:Dict):\n",
        "    \"\"\"\n",
        "    Quantization transform function. Extracts and preprocess input data from dataloader item for quantization.\n",
        "    Parameters:\n",
        "       data_item: Dict with data item produced by DataLoader during iteration\n",
        "    Returns:\n",
        "        input_tensor: Input data for quantization\n",
        "    \"\"\"\n",
        "    input_tensor = det_validator.preprocess(data_item)['img'].numpy()\n",
        "    return input_tensor\n",
        "\n",
        "\n",
        "quantization_dataset = nncf.Dataset(det_data_loader, transform_fn)"
      ],
      "metadata": {
        "id": "zIm9WL9kDcO6"
      },
      "execution_count": null,
      "outputs": []
    },
    {
      "cell_type": "code",
      "source": [
        "from openvino.runtime import serialize\n",
        "int8_model_det_path = f\"/content/runs/detect/{experiment}/weights/best_openvino_model/best_int8.xml\"\n",
        "print(f\"Quantized detection model will be saved to {int8_model_det_path}\")\n",
        "serialize(quantized_det_model, str(int8_model_det_path))"
      ],
      "metadata": {
        "id": "UeYpgv8qC9lt"
      },
      "execution_count": null,
      "outputs": []
    },
    {
      "cell_type": "code",
      "source": [],
      "metadata": {
        "id": "Y5c5YFTpC-0L"
      },
      "execution_count": null,
      "outputs": []
    }
  ]
}